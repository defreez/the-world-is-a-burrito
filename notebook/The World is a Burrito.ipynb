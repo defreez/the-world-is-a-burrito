{
 "cells": [
  {
   "cell_type": "code",
   "execution_count": 1,
   "id": "7835df47",
   "metadata": {},
   "outputs": [],
   "source": [
    ":opt no-lint"
   ]
  },
  {
   "cell_type": "markdown",
   "id": "f5bf7c08",
   "metadata": {},
   "source": [
    "# The World is a ~~Monad~~ Burrito\n",
    "## CS 452, Spring 2022"
   ]
  },
  {
   "cell_type": "markdown",
   "id": "b3cec163",
   "metadata": {},
   "source": [
    "# Introduction to Haskell\n",
    "\n",
    "- Pure functional language\n",
    "- Elm is a spiritual subset of Haskell built for the frontend\n",
    "- Subset of functionality, slightly different syntax\n",
    "    - Then a bunch of browser stuff bolted on\n",
    "- Haskell named after Haskell *Curry*\n",
    "\n",
    "### Difference: Haskell is Lazy\n",
    "\n",
    "- Data is not evaluated until it is needed"
   ]
  },
  {
   "cell_type": "code",
   "execution_count": 3,
   "id": "14a1b463",
   "metadata": {},
   "outputs": [
    {
     "data": {
      "text/plain": [
       "4"
      ]
     },
     "metadata": {},
     "output_type": "display_data"
    }
   ],
   "source": [
    "2 + 2"
   ]
  },
  {
   "cell_type": "code",
   "execution_count": 40,
   "id": "a0290a28",
   "metadata": {},
   "outputs": [
    {
     "data": {
      "text/plain": [
       "[1,2,3]"
      ]
     },
     "metadata": {},
     "output_type": "display_data"
    }
   ],
   "source": [
    "-- First three items of a finite list\n",
    "take 3 [1,2,3,4,5]"
   ]
  },
  {
   "cell_type": "code",
   "execution_count": 41,
   "id": "4117015b",
   "metadata": {},
   "outputs": [
    {
     "data": {
      "text/plain": [
       "[1,2,3]"
      ]
     },
     "metadata": {},
     "output_type": "display_data"
    }
   ],
   "source": [
    "-- First three items of an infinite list\n",
    "take 3 [1..]"
   ]
  },
  {
   "cell_type": "code",
   "execution_count": 39,
   "id": "daffc9c5",
   "metadata": {},
   "outputs": [
    {
     "data": {
      "text/html": [
       "<style>/* Styles used for the Hoogle display in the pager */\n",
       ".hoogle-doc {\n",
       "display: block;\n",
       "padding-bottom: 1.3em;\n",
       "padding-left: 0.4em;\n",
       "}\n",
       ".hoogle-code {\n",
       "display: block;\n",
       "font-family: monospace;\n",
       "white-space: pre;\n",
       "}\n",
       ".hoogle-text {\n",
       "display: block;\n",
       "}\n",
       ".hoogle-name {\n",
       "color: green;\n",
       "font-weight: bold;\n",
       "}\n",
       ".hoogle-head {\n",
       "font-weight: bold;\n",
       "}\n",
       ".hoogle-sub {\n",
       "display: block;\n",
       "margin-left: 0.4em;\n",
       "}\n",
       ".hoogle-package {\n",
       "font-weight: bold;\n",
       "font-style: italic;\n",
       "}\n",
       ".hoogle-module {\n",
       "font-weight: bold;\n",
       "}\n",
       ".hoogle-class {\n",
       "font-weight: bold;\n",
       "}\n",
       ".get-type {\n",
       "color: green;\n",
       "font-weight: bold;\n",
       "font-family: monospace;\n",
       "display: block;\n",
       "white-space: pre-wrap;\n",
       "}\n",
       ".show-type {\n",
       "color: green;\n",
       "font-weight: bold;\n",
       "font-family: monospace;\n",
       "margin-left: 1em;\n",
       "}\n",
       ".mono {\n",
       "font-family: monospace;\n",
       "display: block;\n",
       "}\n",
       ".err-msg {\n",
       "color: red;\n",
       "font-style: italic;\n",
       "font-family: monospace;\n",
       "white-space: pre;\n",
       "display: block;\n",
       "}\n",
       "#unshowable {\n",
       "color: red;\n",
       "font-weight: bold;\n",
       "}\n",
       ".err-msg.in.collapse {\n",
       "padding-top: 0.7em;\n",
       "}\n",
       ".highlight-code {\n",
       "white-space: pre;\n",
       "font-family: monospace;\n",
       "}\n",
       ".suggestion-warning { \n",
       "font-weight: bold;\n",
       "color: rgb(200, 130, 0);\n",
       "}\n",
       ".suggestion-error { \n",
       "font-weight: bold;\n",
       "color: red;\n",
       "}\n",
       ".suggestion-name {\n",
       "font-weight: bold;\n",
       "}\n",
       "</style><span class='get-type'>head :: forall a. [a] -> a</span>"
      ],
      "text/plain": [
       "head :: forall a. [a] -> a"
      ]
     },
     "metadata": {},
     "output_type": "display_data"
    }
   ],
   "source": [
    "take"
   ]
  },
  {
   "cell_type": "code",
   "execution_count": 4,
   "id": "9163c7d1",
   "metadata": {},
   "outputs": [
    {
     "data": {
      "text/plain": [
       "3628800"
      ]
     },
     "metadata": {},
     "output_type": "display_data"
    }
   ],
   "source": [
    "-- Functions can be split across multiple lines\n",
    "fact :: Integer -> Integer\n",
    "fact 0 = 1\n",
    "fact n = n * fact (n - 1)\n",
    "\n",
    "fact 10"
   ]
  },
  {
   "cell_type": "markdown",
   "id": "0408b474",
   "metadata": {},
   "source": [
    "## Map\n",
    "\n",
    "- Virtually identical to Elm"
   ]
  },
  {
   "cell_type": "code",
   "execution_count": 22,
   "id": "86154b6d",
   "metadata": {},
   "outputs": [
    {
     "data": {
      "text/plain": [
       "[2,4,6]"
      ]
     },
     "metadata": {},
     "output_type": "display_data"
    }
   ],
   "source": [
    "map (*2) [1,2,3]"
   ]
  },
  {
   "cell_type": "markdown",
   "id": "1740dd57",
   "metadata": {},
   "source": [
    "## Folds\n",
    "\n",
    "- Associate either to the right (fold right) or left (fold left)\n",
    "- For lists, thing of it as replacing cons with a function\n",
    "- Requires a starting value (what to use for empty list)"
   ]
  },
  {
   "cell_type": "code",
   "execution_count": 5,
   "id": "1ed33602",
   "metadata": {},
   "outputs": [
    {
     "data": {
      "text/plain": [
       "7"
      ]
     },
     "metadata": {},
     "output_type": "display_data"
    }
   ],
   "source": [
    "foldl (+) 0 [1,2,3]"
   ]
  },
  {
   "cell_type": "code",
   "execution_count": 9,
   "id": "a8aee533",
   "metadata": {},
   "outputs": [
    {
     "data": {
      "text/plain": [
       "6"
      ]
     },
     "metadata": {},
     "output_type": "display_data"
    }
   ],
   "source": [
    "-- Functions that commute will have identical foldl and foldr\n",
    "foldr (+) 0 [1,2,3]"
   ]
  },
  {
   "cell_type": "code",
   "execution_count": 12,
   "id": "c26ae03c",
   "metadata": {},
   "outputs": [
    {
     "data": {
      "text/plain": [
       "0.16666666666666666"
      ]
     },
     "metadata": {},
     "output_type": "display_data"
    },
    {
     "data": {
      "text/plain": [
       "1.5"
      ]
     },
     "metadata": {},
     "output_type": "display_data"
    }
   ],
   "source": [
    "-- ((1 / 2) / 3) / 1)\n",
    "foldl (/) 1 [1,2,3]\n",
    "\n",
    "\n",
    "-- 1 / (2 / (3 / 1))\n",
    "foldr (/) 1 [1,2,3]"
   ]
  },
  {
   "cell_type": "markdown",
   "id": "0a458484",
   "metadata": {},
   "source": [
    "## Types and Classes\n",
    "\n",
    "- Nearly identical to Elm\n",
    "- Replace `type` keyword with `data`"
   ]
  },
  {
   "cell_type": "code",
   "execution_count": 18,
   "id": "f64a3e93",
   "metadata": {},
   "outputs": [
    {
     "data": {
      "text/html": [
       "<style>/* Styles used for the Hoogle display in the pager */\n",
       ".hoogle-doc {\n",
       "display: block;\n",
       "padding-bottom: 1.3em;\n",
       "padding-left: 0.4em;\n",
       "}\n",
       ".hoogle-code {\n",
       "display: block;\n",
       "font-family: monospace;\n",
       "white-space: pre;\n",
       "}\n",
       ".hoogle-text {\n",
       "display: block;\n",
       "}\n",
       ".hoogle-name {\n",
       "color: green;\n",
       "font-weight: bold;\n",
       "}\n",
       ".hoogle-head {\n",
       "font-weight: bold;\n",
       "}\n",
       ".hoogle-sub {\n",
       "display: block;\n",
       "margin-left: 0.4em;\n",
       "}\n",
       ".hoogle-package {\n",
       "font-weight: bold;\n",
       "font-style: italic;\n",
       "}\n",
       ".hoogle-module {\n",
       "font-weight: bold;\n",
       "}\n",
       ".hoogle-class {\n",
       "font-weight: bold;\n",
       "}\n",
       ".get-type {\n",
       "color: green;\n",
       "font-weight: bold;\n",
       "font-family: monospace;\n",
       "display: block;\n",
       "white-space: pre-wrap;\n",
       "}\n",
       ".show-type {\n",
       "color: green;\n",
       "font-weight: bold;\n",
       "font-family: monospace;\n",
       "margin-left: 1em;\n",
       "}\n",
       ".mono {\n",
       "font-family: monospace;\n",
       "display: block;\n",
       "}\n",
       ".err-msg {\n",
       "color: red;\n",
       "font-style: italic;\n",
       "font-family: monospace;\n",
       "white-space: pre;\n",
       "display: block;\n",
       "}\n",
       "#unshowable {\n",
       "color: red;\n",
       "font-weight: bold;\n",
       "}\n",
       ".err-msg.in.collapse {\n",
       "padding-top: 0.7em;\n",
       "}\n",
       ".highlight-code {\n",
       "white-space: pre;\n",
       "font-family: monospace;\n",
       "}\n",
       ".suggestion-warning { \n",
       "font-weight: bold;\n",
       "color: rgb(200, 130, 0);\n",
       "}\n",
       ".suggestion-error { \n",
       "font-weight: bold;\n",
       "color: red;\n",
       "}\n",
       ".suggestion-name {\n",
       "font-weight: bold;\n",
       "}\n",
       "</style><span class='get-type'>MyFalse :: MyBool</span>"
      ],
      "text/plain": [
       "MyFalse :: MyBool"
      ]
     },
     "metadata": {},
     "output_type": "display_data"
    }
   ],
   "source": [
    "data MyBool = MyFalse | MyTrue\n",
    ":t MyFalse"
   ]
  },
  {
   "cell_type": "code",
   "execution_count": 21,
   "id": "6829735d",
   "metadata": {},
   "outputs": [
    {
     "data": {
      "text/plain": [
       "(1,2)"
      ]
     },
     "metadata": {},
     "output_type": "display_data"
    }
   ],
   "source": [
    "type Pos = (Int, Int)\n",
    "data Move = North | South | East | West\n",
    "\n",
    "move :: Move -> Pos -> Pos\n",
    "move North (x,y) = (x, y+1)\n",
    "move South (x,y) = (x, y-1)\n",
    "move East (x,y) = (x+1, y)\n",
    "move West (x,y) = (x-1, y)\n",
    "\n",
    "move West (2,2)"
   ]
  },
  {
   "cell_type": "code",
   "execution_count": 53,
   "id": "41fd270c",
   "metadata": {},
   "outputs": [
    {
     "data": {
      "text/plain": [
       "North"
      ]
     },
     "metadata": {},
     "output_type": "display_data"
    }
   ],
   "source": [
    "North"
   ]
  },
  {
   "cell_type": "code",
   "execution_count": 47,
   "id": "d7f78bc5",
   "metadata": {},
   "outputs": [],
   "source": [
    "class Stringable a where\n",
    "    stringify :: a -> String\n",
    "    \n",
    "instance Stringable Move where\n",
    "    stringify North = \"North\"\n",
    "    stringify South = \"North\"\n",
    "    stringify East = \"North\"\n",
    "    stringify West = \"North\""
   ]
  },
  {
   "cell_type": "code",
   "execution_count": 48,
   "id": "8088c84e",
   "metadata": {},
   "outputs": [
    {
     "data": {
      "text/html": [
       "<style>/* Styles used for the Hoogle display in the pager */\n",
       ".hoogle-doc {\n",
       "display: block;\n",
       "padding-bottom: 1.3em;\n",
       "padding-left: 0.4em;\n",
       "}\n",
       ".hoogle-code {\n",
       "display: block;\n",
       "font-family: monospace;\n",
       "white-space: pre;\n",
       "}\n",
       ".hoogle-text {\n",
       "display: block;\n",
       "}\n",
       ".hoogle-name {\n",
       "color: green;\n",
       "font-weight: bold;\n",
       "}\n",
       ".hoogle-head {\n",
       "font-weight: bold;\n",
       "}\n",
       ".hoogle-sub {\n",
       "display: block;\n",
       "margin-left: 0.4em;\n",
       "}\n",
       ".hoogle-package {\n",
       "font-weight: bold;\n",
       "font-style: italic;\n",
       "}\n",
       ".hoogle-module {\n",
       "font-weight: bold;\n",
       "}\n",
       ".hoogle-class {\n",
       "font-weight: bold;\n",
       "}\n",
       ".get-type {\n",
       "color: green;\n",
       "font-weight: bold;\n",
       "font-family: monospace;\n",
       "display: block;\n",
       "white-space: pre-wrap;\n",
       "}\n",
       ".show-type {\n",
       "color: green;\n",
       "font-weight: bold;\n",
       "font-family: monospace;\n",
       "margin-left: 1em;\n",
       "}\n",
       ".mono {\n",
       "font-family: monospace;\n",
       "display: block;\n",
       "}\n",
       ".err-msg {\n",
       "color: red;\n",
       "font-style: italic;\n",
       "font-family: monospace;\n",
       "white-space: pre;\n",
       "display: block;\n",
       "}\n",
       "#unshowable {\n",
       "color: red;\n",
       "font-weight: bold;\n",
       "}\n",
       ".err-msg.in.collapse {\n",
       "padding-top: 0.7em;\n",
       "}\n",
       ".highlight-code {\n",
       "white-space: pre;\n",
       "font-family: monospace;\n",
       "}\n",
       ".suggestion-warning { \n",
       "font-weight: bold;\n",
       "color: rgb(200, 130, 0);\n",
       "}\n",
       ".suggestion-error { \n",
       "font-weight: bold;\n",
       "color: red;\n",
       "}\n",
       ".suggestion-name {\n",
       "font-weight: bold;\n",
       "}\n",
       "</style><span class='get-type'>stringify :: forall a. Stringable a => a -> String</span>"
      ],
      "text/plain": [
       "stringify :: forall a. Stringable a => a -> String"
      ]
     },
     "metadata": {},
     "output_type": "display_data"
    }
   ],
   "source": [
    ":t stringify "
   ]
  },
  {
   "cell_type": "code",
   "execution_count": 49,
   "id": "e0a085b4",
   "metadata": {},
   "outputs": [
    {
     "data": {
      "text/plain": [
       "\"North\""
      ]
     },
     "metadata": {},
     "output_type": "display_data"
    }
   ],
   "source": [
    "stringify North"
   ]
  },
  {
   "cell_type": "code",
   "execution_count": 51,
   "id": "1308e1dd",
   "metadata": {},
   "outputs": [],
   "source": [
    "-- Builtin version of Stringable above, called Show\n",
    "instance Show Move where\n",
    "    show North = \"North\"\n",
    "    show South = \"North\"\n",
    "    show East = \"North\"\n",
    "    show West = \"North\""
   ]
  },
  {
   "cell_type": "code",
   "execution_count": 52,
   "id": "af71f722",
   "metadata": {},
   "outputs": [
    {
     "data": {
      "text/plain": [
       "North"
      ]
     },
     "metadata": {},
     "output_type": "display_data"
    }
   ],
   "source": [
    "North"
   ]
  },
  {
   "cell_type": "markdown",
   "id": "3a614e58",
   "metadata": {},
   "source": [
    "## The Maybe type\n",
    "\n",
    "- Same as the Maybe type we saw in Elm"
   ]
  },
  {
   "cell_type": "markdown",
   "id": "30c592da",
   "metadata": {},
   "source": [
    "```haskell\n",
    "data Maybe a = Nothing | Just a\n",
    "```"
   ]
  },
  {
   "cell_type": "code",
   "execution_count": 2,
   "id": "63bc7699",
   "metadata": {},
   "outputs": [
    {
     "data": {
      "text/plain": [
       "Just 2"
      ]
     },
     "metadata": {},
     "output_type": "display_data"
    }
   ],
   "source": [
    "Just 2"
   ]
  },
  {
   "cell_type": "markdown",
   "id": "60457af1",
   "metadata": {},
   "source": [
    "- What happens if we want to apply a function to something wrapped in a Maybe?\n",
    "\n",
    "![ouch](https://adit.io/imgs/functors/no_fmap_ouch.png)"
   ]
  },
  {
   "cell_type": "code",
   "execution_count": 3,
   "id": "53da9126",
   "metadata": {},
   "outputs": [
    {
     "ename": "",
     "evalue": "",
     "output_type": "error",
     "traceback": [
      "<interactive>:1:1: error:\n    • Non type-variable argument in the constraint: Num (Maybe a)\n      (Use FlexibleContexts to permit this)\n    • When checking the inferred type\n        it :: forall a. (Num a, Num (Maybe a)) => Maybe a"
     ]
    }
   ],
   "source": [
    "Just 2 + 3"
   ]
  },
  {
   "cell_type": "markdown",
   "id": "32d1f6f4",
   "metadata": {},
   "source": [
    "# Functors\n",
    "\n",
    "- Functors are type classes\n",
    "- Functors define `fmap` which determines how to apply a function to these types\n",
    "\n",
    "$$\n",
    "\\text{fmap} :: (a \\rightarrow b) \\rightarrow f a \\rightarrow f b\n",
    "$$"
   ]
  },
  {
   "cell_type": "code",
   "execution_count": 4,
   "id": "e094c1dc",
   "metadata": {},
   "outputs": [
    {
     "data": {
      "text/plain": [
       "Just 5"
      ]
     },
     "metadata": {},
     "output_type": "display_data"
    }
   ],
   "source": [
    "fmap (+3) (Just 2)"
   ]
  },
  {
   "cell_type": "markdown",
   "id": "830c886d",
   "metadata": {},
   "source": [
    "![fmap in action](https://adit.io/imgs/functors/fmap_just.png)"
   ]
  },
  {
   "cell_type": "code",
   "execution_count": 5,
   "id": "8217ebf4",
   "metadata": {},
   "outputs": [
    {
     "data": {
      "text/plain": [
       "Nothing"
      ]
     },
     "metadata": {},
     "output_type": "display_data"
    }
   ],
   "source": [
    "fmap (+3) Nothing"
   ]
  },
  {
   "cell_type": "markdown",
   "id": "2c48cd91",
   "metadata": {},
   "source": [
    "Applying functions in ~~inferior~~ other languages\n",
    "\n",
    "```\n",
    "post = Post.find_by_id(1)\n",
    "if post\n",
    "  return post.title\n",
    "else\n",
    "  return nil\n",
    "end\n",
    "```\n",
    "\n",
    "Haskell:\n",
    "\n",
    "```haskell\n",
    "fmap (getPostTitle) (findPost 1)\n",
    "```"
   ]
  },
  {
   "cell_type": "markdown",
   "id": "63300538",
   "metadata": {},
   "source": [
    "- `<$>` is the infix version of fmap\n",
    "- Lists are functors\n",
    "    - For lists `fmap` = `map`"
   ]
  },
  {
   "cell_type": "code",
   "execution_count": 6,
   "id": "1a5d0517",
   "metadata": {
    "scrolled": true
   },
   "outputs": [
    {
     "data": {
      "text/plain": [
       "[4,5,6]"
      ]
     },
     "metadata": {},
     "output_type": "display_data"
    }
   ],
   "source": [
    "(+3) <$> [1,2,3]"
   ]
  },
  {
   "cell_type": "markdown",
   "id": "90442b9a",
   "metadata": {},
   "source": [
    "# Applicatives\n",
    "\n",
    "- We can use `fmap` to a apply a function to a functor, i.e. a function to something wrapped in a box\n",
    "- Applicatives apply a wrapped function to a wrapped valued\n",
    "\n",
    "![applicative boxes](https://adit.io/imgs/functors/applicative_just.png)"
   ]
  },
  {
   "cell_type": "markdown",
   "id": "afe2e49a",
   "metadata": {},
   "source": [
    "## Handling multiple arguments\n",
    "\n",
    "- Functors only work with functions that take a single argument\n",
    "- Applicatives allow for the application of functions with multiple arguments\n",
    "\n",
    "One option would be to declare different fmaps for different arities (in fact this is what Elm does for List.map)\n",
    "\n",
    "```haskell\n",
    "fmap0 :: a -> f a\n",
    "fmap1 :: (a -> b) -> f a -> f b\n",
    "fmap2 :: (a -> b -> c) -> f a -> f b -> f c\n",
    "..\n",
    "```\n",
    "\n",
    "Hmm.. that seems annoying. Currying to the rescue!\n",
    "\n",
    "- Apply a function wrapped in a box to a value wrapped in a box\n",
    "- Define two operations\n",
    "   \n",
    "1. pure tells us how to put something in a box\n",
    "2. `<*>` tells us how to apply a function in a box to something in a box.\n",
    "\n",
    "\n",
    "```haskell\n",
    "pure :: a -> f a\n",
    "<*> :: f (a -> b) -> f a -> f b\n",
    "```\n"
   ]
  },
  {
   "cell_type": "code",
   "execution_count": 7,
   "id": "ffbfc14d",
   "metadata": {},
   "outputs": [
    {
     "data": {
      "text/plain": [
       "Just 3"
      ]
     },
     "metadata": {},
     "output_type": "display_data"
    }
   ],
   "source": [
    "pure (+) <*> Just 1 <*> Just 2"
   ]
  },
  {
   "cell_type": "code",
   "execution_count": 8,
   "id": "a1c5f205",
   "metadata": {},
   "outputs": [
    {
     "data": {
      "text/html": [
       "<style>/* Styles used for the Hoogle display in the pager */\n",
       ".hoogle-doc {\n",
       "display: block;\n",
       "padding-bottom: 1.3em;\n",
       "padding-left: 0.4em;\n",
       "}\n",
       ".hoogle-code {\n",
       "display: block;\n",
       "font-family: monospace;\n",
       "white-space: pre;\n",
       "}\n",
       ".hoogle-text {\n",
       "display: block;\n",
       "}\n",
       ".hoogle-name {\n",
       "color: green;\n",
       "font-weight: bold;\n",
       "}\n",
       ".hoogle-head {\n",
       "font-weight: bold;\n",
       "}\n",
       ".hoogle-sub {\n",
       "display: block;\n",
       "margin-left: 0.4em;\n",
       "}\n",
       ".hoogle-package {\n",
       "font-weight: bold;\n",
       "font-style: italic;\n",
       "}\n",
       ".hoogle-module {\n",
       "font-weight: bold;\n",
       "}\n",
       ".hoogle-class {\n",
       "font-weight: bold;\n",
       "}\n",
       ".get-type {\n",
       "color: green;\n",
       "font-weight: bold;\n",
       "font-family: monospace;\n",
       "display: block;\n",
       "white-space: pre-wrap;\n",
       "}\n",
       ".show-type {\n",
       "color: green;\n",
       "font-weight: bold;\n",
       "font-family: monospace;\n",
       "margin-left: 1em;\n",
       "}\n",
       ".mono {\n",
       "font-family: monospace;\n",
       "display: block;\n",
       "}\n",
       ".err-msg {\n",
       "color: red;\n",
       "font-style: italic;\n",
       "font-family: monospace;\n",
       "white-space: pre;\n",
       "display: block;\n",
       "}\n",
       "#unshowable {\n",
       "color: red;\n",
       "font-weight: bold;\n",
       "}\n",
       ".err-msg.in.collapse {\n",
       "padding-top: 0.7em;\n",
       "}\n",
       ".highlight-code {\n",
       "white-space: pre;\n",
       "font-family: monospace;\n",
       "}\n",
       ".suggestion-warning { \n",
       "font-weight: bold;\n",
       "color: rgb(200, 130, 0);\n",
       "}\n",
       ".suggestion-error { \n",
       "font-weight: bold;\n",
       "color: red;\n",
       "}\n",
       ".suggestion-name {\n",
       "font-weight: bold;\n",
       "}\n",
       "</style><span class='get-type'>(+) :: forall a. Num a => a -> a -> a</span>"
      ],
      "text/plain": [
       "(+) :: forall a. Num a => a -> a -> a"
      ]
     },
     "metadata": {},
     "output_type": "display_data"
    },
    {
     "data": {
      "text/html": [
       "<style>/* Styles used for the Hoogle display in the pager */\n",
       ".hoogle-doc {\n",
       "display: block;\n",
       "padding-bottom: 1.3em;\n",
       "padding-left: 0.4em;\n",
       "}\n",
       ".hoogle-code {\n",
       "display: block;\n",
       "font-family: monospace;\n",
       "white-space: pre;\n",
       "}\n",
       ".hoogle-text {\n",
       "display: block;\n",
       "}\n",
       ".hoogle-name {\n",
       "color: green;\n",
       "font-weight: bold;\n",
       "}\n",
       ".hoogle-head {\n",
       "font-weight: bold;\n",
       "}\n",
       ".hoogle-sub {\n",
       "display: block;\n",
       "margin-left: 0.4em;\n",
       "}\n",
       ".hoogle-package {\n",
       "font-weight: bold;\n",
       "font-style: italic;\n",
       "}\n",
       ".hoogle-module {\n",
       "font-weight: bold;\n",
       "}\n",
       ".hoogle-class {\n",
       "font-weight: bold;\n",
       "}\n",
       ".get-type {\n",
       "color: green;\n",
       "font-weight: bold;\n",
       "font-family: monospace;\n",
       "display: block;\n",
       "white-space: pre-wrap;\n",
       "}\n",
       ".show-type {\n",
       "color: green;\n",
       "font-weight: bold;\n",
       "font-family: monospace;\n",
       "margin-left: 1em;\n",
       "}\n",
       ".mono {\n",
       "font-family: monospace;\n",
       "display: block;\n",
       "}\n",
       ".err-msg {\n",
       "color: red;\n",
       "font-style: italic;\n",
       "font-family: monospace;\n",
       "white-space: pre;\n",
       "display: block;\n",
       "}\n",
       "#unshowable {\n",
       "color: red;\n",
       "font-weight: bold;\n",
       "}\n",
       ".err-msg.in.collapse {\n",
       "padding-top: 0.7em;\n",
       "}\n",
       ".highlight-code {\n",
       "white-space: pre;\n",
       "font-family: monospace;\n",
       "}\n",
       ".suggestion-warning { \n",
       "font-weight: bold;\n",
       "color: rgb(200, 130, 0);\n",
       "}\n",
       ".suggestion-error { \n",
       "font-weight: bold;\n",
       "color: red;\n",
       "}\n",
       ".suggestion-name {\n",
       "font-weight: bold;\n",
       "}\n",
       "</style><span class='get-type'>pure (+) :: forall (f :: * -> *) a. (Applicative f, Num a) => f (a -> a -> a)</span>"
      ],
      "text/plain": [
       "pure (+) :: forall (f :: * -> *) a. (Applicative f, Num a) => f (a -> a -> a)"
      ]
     },
     "metadata": {},
     "output_type": "display_data"
    },
    {
     "data": {
      "text/html": [
       "<style>/* Styles used for the Hoogle display in the pager */\n",
       ".hoogle-doc {\n",
       "display: block;\n",
       "padding-bottom: 1.3em;\n",
       "padding-left: 0.4em;\n",
       "}\n",
       ".hoogle-code {\n",
       "display: block;\n",
       "font-family: monospace;\n",
       "white-space: pre;\n",
       "}\n",
       ".hoogle-text {\n",
       "display: block;\n",
       "}\n",
       ".hoogle-name {\n",
       "color: green;\n",
       "font-weight: bold;\n",
       "}\n",
       ".hoogle-head {\n",
       "font-weight: bold;\n",
       "}\n",
       ".hoogle-sub {\n",
       "display: block;\n",
       "margin-left: 0.4em;\n",
       "}\n",
       ".hoogle-package {\n",
       "font-weight: bold;\n",
       "font-style: italic;\n",
       "}\n",
       ".hoogle-module {\n",
       "font-weight: bold;\n",
       "}\n",
       ".hoogle-class {\n",
       "font-weight: bold;\n",
       "}\n",
       ".get-type {\n",
       "color: green;\n",
       "font-weight: bold;\n",
       "font-family: monospace;\n",
       "display: block;\n",
       "white-space: pre-wrap;\n",
       "}\n",
       ".show-type {\n",
       "color: green;\n",
       "font-weight: bold;\n",
       "font-family: monospace;\n",
       "margin-left: 1em;\n",
       "}\n",
       ".mono {\n",
       "font-family: monospace;\n",
       "display: block;\n",
       "}\n",
       ".err-msg {\n",
       "color: red;\n",
       "font-style: italic;\n",
       "font-family: monospace;\n",
       "white-space: pre;\n",
       "display: block;\n",
       "}\n",
       "#unshowable {\n",
       "color: red;\n",
       "font-weight: bold;\n",
       "}\n",
       ".err-msg.in.collapse {\n",
       "padding-top: 0.7em;\n",
       "}\n",
       ".highlight-code {\n",
       "white-space: pre;\n",
       "font-family: monospace;\n",
       "}\n",
       ".suggestion-warning { \n",
       "font-weight: bold;\n",
       "color: rgb(200, 130, 0);\n",
       "}\n",
       ".suggestion-error { \n",
       "font-weight: bold;\n",
       "color: red;\n",
       "}\n",
       ".suggestion-name {\n",
       "font-weight: bold;\n",
       "}\n",
       "</style><span class='get-type'>pure (+) <*> Just 2 :: forall a. Num a => Maybe (a -> a)</span>"
      ],
      "text/plain": [
       "pure (+) <*> Just 2 :: forall a. Num a => Maybe (a -> a)"
      ]
     },
     "metadata": {},
     "output_type": "display_data"
    },
    {
     "data": {
      "text/plain": [
       "Just 5"
      ]
     },
     "metadata": {},
     "output_type": "display_data"
    },
    {
     "data": {
      "text/plain": [
       "Nothing"
      ]
     },
     "metadata": {},
     "output_type": "display_data"
    }
   ],
   "source": [
    ":t (+)\n",
    ":t pure (+)\n",
    ":t pure (+) <*> Just 2\n",
    "pure (+) <*> Just 2 <*> Just 3\n",
    "pure (+) <*> Nothing <*> Just 3"
   ]
  },
  {
   "cell_type": "markdown",
   "id": "dd7ce08d",
   "metadata": {},
   "source": [
    "- The default apply operator for lists represents non-deterministic computation\n",
    "- That is lists represent list of all possible results from a function"
   ]
  },
  {
   "cell_type": "code",
   "execution_count": 9,
   "id": "69a1c6eb",
   "metadata": {
    "scrolled": true
   },
   "outputs": [
    {
     "data": {
      "text/plain": [
       "[5,6,7,6,7,8,7,8,9]"
      ]
     },
     "metadata": {},
     "output_type": "display_data"
    }
   ],
   "source": [
    "pure (+) <*> [1,2,3] <*> [4,5,6]"
   ]
  },
  {
   "cell_type": "markdown",
   "id": "21b87813",
   "metadata": {},
   "source": [
    "- We could also represent parallel computation over lists.\n",
    "    - Can be built straight from applicatives\n",
    "    - Already done for us with zip functions"
   ]
  },
  {
   "cell_type": "code",
   "execution_count": 54,
   "id": "7c96669f",
   "metadata": {},
   "outputs": [
    {
     "data": {
      "text/plain": [
       "[5,7,9]"
      ]
     },
     "metadata": {},
     "output_type": "display_data"
    }
   ],
   "source": [
    "-- Only works for functions with two arguments\n",
    "zipWith (+) [1,2,3] [4,5,6]"
   ]
  },
  {
   "cell_type": "code",
   "execution_count": 75,
   "id": "b951ae25",
   "metadata": {},
   "outputs": [
    {
     "data": {
      "text/plain": [
       "ZipList {getZipList = [5,7,9]}"
      ]
     },
     "metadata": {},
     "output_type": "display_data"
    }
   ],
   "source": [
    "zipped = pure (+) <*> ZipList [1,2,3] <*> ZipList [4,5,6]\n",
    "zipped"
   ]
  },
  {
   "cell_type": "code",
   "execution_count": 76,
   "id": "4a3e7a24",
   "metadata": {},
   "outputs": [
    {
     "data": {
      "text/plain": [
       "[5,7,9]"
      ]
     },
     "metadata": {},
     "output_type": "display_data"
    }
   ],
   "source": [
    "getZipList zipped"
   ]
  },
  {
   "cell_type": "markdown",
   "id": "96e4c8ea",
   "metadata": {},
   "source": [
    "- Applicatives allow programming in a pure language with *effects*\n",
    "- Allows functions to be created where the arguments are no longer just plain values, but may also have effects (such as the possibility of failure), having many wasy to succeed, or performing I/O"
   ]
  },
  {
   "cell_type": "markdown",
   "id": "28eb3b97",
   "metadata": {},
   "source": [
    "# Monads\n",
    "\n",
    "http://james-iry.blogspot.com/2009/05/brief-incomplete-and-mostly-wrong.html\n",
    "\n",
    "http://tpetricek.github.io/Talks/2018/monads-what-we-talk-about/nice/index.html#/\n",
    "\n",
    "![monads](http://tpetricek.github.io/Talks/2018/monads-what-we-talk-about/nice/images/monads.jpg)\n",
    "\n",
    "- Functors apply a function to a wrapped value\n",
    "- Applicatives apply a wrapped function to a wrapped value\n",
    "- Monads apply a function that returns a wrapped value to a wrapped value"
   ]
  },
  {
   "cell_type": "code",
   "execution_count": 10,
   "id": "d4233195",
   "metadata": {},
   "outputs": [
    {
     "data": {
      "text/plain": [
       "Just 2"
      ]
     },
     "metadata": {},
     "output_type": "display_data"
    }
   ],
   "source": [
    "half x =\n",
    "   if even x then\n",
    "       Just (x `div` 2)\n",
    "    else\n",
    "        Nothing\n",
    "        \n",
    "half 4"
   ]
  },
  {
   "cell_type": "code",
   "execution_count": 11,
   "id": "28c6cae0",
   "metadata": {
    "scrolled": true
   },
   "outputs": [
    {
     "ename": "",
     "evalue": "",
     "output_type": "error",
     "traceback": [
      "<interactive>:1:1: error:\n    • Non type-variable argument in the constraint: Integral (Maybe a)\n      (Use FlexibleContexts to permit this)\n    • When checking the inferred type\n        it :: forall a. Integral (Maybe a) => Maybe (Maybe a)"
     ]
    }
   ],
   "source": [
    "half Nothing"
   ]
  },
  {
   "cell_type": "code",
   "execution_count": 12,
   "id": "51e1bbf4",
   "metadata": {
    "scrolled": false
   },
   "outputs": [
    {
     "data": {
      "text/plain": [
       "Nothing"
      ]
     },
     "metadata": {},
     "output_type": "display_data"
    },
    {
     "data": {
      "text/plain": [
       "Just 2"
      ]
     },
     "metadata": {},
     "output_type": "display_data"
    }
   ],
   "source": [
    "Just 3 >>= half\n",
    "Just 4 >>= half"
   ]
  },
  {
   "cell_type": "markdown",
   "id": "ac24b451",
   "metadata": {},
   "source": [
    "```haskell\n",
    "class Monad m where\n",
    "    (>>=) :: m a -> (a -> m b) -> m b\n",
    "```\n",
    "\n",
    "![the bind operator](https://adit.io/imgs/functors/bind_def.png)\n",
    "\n",
    "![wrapping and unwrapping](https://adit.io/imgs/functors/monad_just.png)"
   ]
  },
  {
   "cell_type": "code",
   "execution_count": 13,
   "id": "8ec2b93e",
   "metadata": {},
   "outputs": [
    {
     "data": {
      "text/plain": [
       "Just 4"
      ]
     },
     "metadata": {},
     "output_type": "display_data"
    }
   ],
   "source": [
    "Just 32 >>= half >>= half >>= half"
   ]
  },
  {
   "cell_type": "code",
   "execution_count": 14,
   "id": "90edd30b",
   "metadata": {},
   "outputs": [
    {
     "data": {
      "text/plain": [
       "\"hello\""
      ]
     },
     "metadata": {},
     "output_type": "display_data"
    }
   ],
   "source": [
    "getLine"
   ]
  },
  {
   "cell_type": "code",
   "execution_count": 17,
   "id": "472083da",
   "metadata": {},
   "outputs": [
    {
     "data": {
      "text/html": [
       "<style>/* Styles used for the Hoogle display in the pager */\n",
       ".hoogle-doc {\n",
       "display: block;\n",
       "padding-bottom: 1.3em;\n",
       "padding-left: 0.4em;\n",
       "}\n",
       ".hoogle-code {\n",
       "display: block;\n",
       "font-family: monospace;\n",
       "white-space: pre;\n",
       "}\n",
       ".hoogle-text {\n",
       "display: block;\n",
       "}\n",
       ".hoogle-name {\n",
       "color: green;\n",
       "font-weight: bold;\n",
       "}\n",
       ".hoogle-head {\n",
       "font-weight: bold;\n",
       "}\n",
       ".hoogle-sub {\n",
       "display: block;\n",
       "margin-left: 0.4em;\n",
       "}\n",
       ".hoogle-package {\n",
       "font-weight: bold;\n",
       "font-style: italic;\n",
       "}\n",
       ".hoogle-module {\n",
       "font-weight: bold;\n",
       "}\n",
       ".hoogle-class {\n",
       "font-weight: bold;\n",
       "}\n",
       ".get-type {\n",
       "color: green;\n",
       "font-weight: bold;\n",
       "font-family: monospace;\n",
       "display: block;\n",
       "white-space: pre-wrap;\n",
       "}\n",
       ".show-type {\n",
       "color: green;\n",
       "font-weight: bold;\n",
       "font-family: monospace;\n",
       "margin-left: 1em;\n",
       "}\n",
       ".mono {\n",
       "font-family: monospace;\n",
       "display: block;\n",
       "}\n",
       ".err-msg {\n",
       "color: red;\n",
       "font-style: italic;\n",
       "font-family: monospace;\n",
       "white-space: pre;\n",
       "display: block;\n",
       "}\n",
       "#unshowable {\n",
       "color: red;\n",
       "font-weight: bold;\n",
       "}\n",
       ".err-msg.in.collapse {\n",
       "padding-top: 0.7em;\n",
       "}\n",
       ".highlight-code {\n",
       "white-space: pre;\n",
       "font-family: monospace;\n",
       "}\n",
       ".suggestion-warning { \n",
       "font-weight: bold;\n",
       "color: rgb(200, 130, 0);\n",
       "}\n",
       ".suggestion-error { \n",
       "font-weight: bold;\n",
       "color: red;\n",
       "}\n",
       ".suggestion-name {\n",
       "font-weight: bold;\n",
       "}\n",
       "</style><span class='get-type'>getLine :: IO String</span>"
      ],
      "text/plain": [
       "getLine :: IO String"
      ]
     },
     "metadata": {},
     "output_type": "display_data"
    }
   ],
   "source": [
    "-- getLine doesn't just return a string\n",
    "-- it returns a String wrapped in IO\n",
    "-- IO is a Monad\n",
    ":t getLine"
   ]
  },
  {
   "cell_type": "code",
   "execution_count": 19,
   "id": "f19865c6",
   "metadata": {},
   "outputs": [
    {
     "data": {
      "text/html": [
       "<style>/* Styles used for the Hoogle display in the pager */\n",
       ".hoogle-doc {\n",
       "display: block;\n",
       "padding-bottom: 1.3em;\n",
       "padding-left: 0.4em;\n",
       "}\n",
       ".hoogle-code {\n",
       "display: block;\n",
       "font-family: monospace;\n",
       "white-space: pre;\n",
       "}\n",
       ".hoogle-text {\n",
       "display: block;\n",
       "}\n",
       ".hoogle-name {\n",
       "color: green;\n",
       "font-weight: bold;\n",
       "}\n",
       ".hoogle-head {\n",
       "font-weight: bold;\n",
       "}\n",
       ".hoogle-sub {\n",
       "display: block;\n",
       "margin-left: 0.4em;\n",
       "}\n",
       ".hoogle-package {\n",
       "font-weight: bold;\n",
       "font-style: italic;\n",
       "}\n",
       ".hoogle-module {\n",
       "font-weight: bold;\n",
       "}\n",
       ".hoogle-class {\n",
       "font-weight: bold;\n",
       "}\n",
       ".get-type {\n",
       "color: green;\n",
       "font-weight: bold;\n",
       "font-family: monospace;\n",
       "display: block;\n",
       "white-space: pre-wrap;\n",
       "}\n",
       ".show-type {\n",
       "color: green;\n",
       "font-weight: bold;\n",
       "font-family: monospace;\n",
       "margin-left: 1em;\n",
       "}\n",
       ".mono {\n",
       "font-family: monospace;\n",
       "display: block;\n",
       "}\n",
       ".err-msg {\n",
       "color: red;\n",
       "font-style: italic;\n",
       "font-family: monospace;\n",
       "white-space: pre;\n",
       "display: block;\n",
       "}\n",
       "#unshowable {\n",
       "color: red;\n",
       "font-weight: bold;\n",
       "}\n",
       ".err-msg.in.collapse {\n",
       "padding-top: 0.7em;\n",
       "}\n",
       ".highlight-code {\n",
       "white-space: pre;\n",
       "font-family: monospace;\n",
       "}\n",
       ".suggestion-warning { \n",
       "font-weight: bold;\n",
       "color: rgb(200, 130, 0);\n",
       "}\n",
       ".suggestion-error { \n",
       "font-weight: bold;\n",
       "color: red;\n",
       "}\n",
       ".suggestion-name {\n",
       "font-weight: bold;\n",
       "}\n",
       "</style><span class='get-type'>putStrLn :: String -> IO ()</span>"
      ],
      "text/plain": [
       "putStrLn :: String -> IO ()"
      ]
     },
     "metadata": {},
     "output_type": "display_data"
    }
   ],
   "source": [
    ":t putStrLn"
   ]
  },
  {
   "cell_type": "code",
   "execution_count": 18,
   "id": "7188ab32",
   "metadata": {},
   "outputs": [
    {
     "data": {
      "text/plain": [
       "hello"
      ]
     },
     "metadata": {},
     "output_type": "display_data"
    }
   ],
   "source": [
    "putStrLn \"Hello, world!\""
   ]
  },
  {
   "cell_type": "code",
   "execution_count": 62,
   "id": "c92b16cd",
   "metadata": {},
   "outputs": [
    {
     "data": {
      "text/plain": [
       "What is your name?\n",
       "Hello defreez"
      ]
     },
     "metadata": {},
     "output_type": "display_data"
    }
   ],
   "source": [
    "putStrLn \"What is your name?\" >>= \\_ -> getLine >>= \\s -> putStrLn (\"Hello \" ++ s)"
   ]
  },
  {
   "cell_type": "code",
   "execution_count": null,
   "id": "555eb50f",
   "metadata": {},
   "outputs": [
    {
     "data": {
      "text/plain": [
       "What is your name?"
      ]
     },
     "metadata": {},
     "output_type": "display_data"
    }
   ],
   "source": [
    "-- do blocks are syntactic sugar for repeated\n",
    "-- binds with lambdas\n",
    "do\n",
    "    putStrLn \"What is your name?\"\n",
    "    s <- getLine\n",
    "    putStrLn s"
   ]
  },
  {
   "cell_type": "code",
   "execution_count": 23,
   "id": "51e422ff",
   "metadata": {},
   "outputs": [
    {
     "data": {
      "text/html": [
       "<style>/* Styles used for the Hoogle display in the pager */\n",
       ".hoogle-doc {\n",
       "display: block;\n",
       "padding-bottom: 1.3em;\n",
       "padding-left: 0.4em;\n",
       "}\n",
       ".hoogle-code {\n",
       "display: block;\n",
       "font-family: monospace;\n",
       "white-space: pre;\n",
       "}\n",
       ".hoogle-text {\n",
       "display: block;\n",
       "}\n",
       ".hoogle-name {\n",
       "color: green;\n",
       "font-weight: bold;\n",
       "}\n",
       ".hoogle-head {\n",
       "font-weight: bold;\n",
       "}\n",
       ".hoogle-sub {\n",
       "display: block;\n",
       "margin-left: 0.4em;\n",
       "}\n",
       ".hoogle-package {\n",
       "font-weight: bold;\n",
       "font-style: italic;\n",
       "}\n",
       ".hoogle-module {\n",
       "font-weight: bold;\n",
       "}\n",
       ".hoogle-class {\n",
       "font-weight: bold;\n",
       "}\n",
       ".get-type {\n",
       "color: green;\n",
       "font-weight: bold;\n",
       "font-family: monospace;\n",
       "display: block;\n",
       "white-space: pre-wrap;\n",
       "}\n",
       ".show-type {\n",
       "color: green;\n",
       "font-weight: bold;\n",
       "font-family: monospace;\n",
       "margin-left: 1em;\n",
       "}\n",
       ".mono {\n",
       "font-family: monospace;\n",
       "display: block;\n",
       "}\n",
       ".err-msg {\n",
       "color: red;\n",
       "font-style: italic;\n",
       "font-family: monospace;\n",
       "white-space: pre;\n",
       "display: block;\n",
       "}\n",
       "#unshowable {\n",
       "color: red;\n",
       "font-weight: bold;\n",
       "}\n",
       ".err-msg.in.collapse {\n",
       "padding-top: 0.7em;\n",
       "}\n",
       ".highlight-code {\n",
       "white-space: pre;\n",
       "font-family: monospace;\n",
       "}\n",
       ".suggestion-warning { \n",
       "font-weight: bold;\n",
       "color: rgb(200, 130, 0);\n",
       "}\n",
       ".suggestion-error { \n",
       "font-weight: bold;\n",
       "color: red;\n",
       "}\n",
       ".suggestion-name {\n",
       "font-weight: bold;\n",
       "}\n",
       "</style><span class='get-type'>putStrLn :: String -> IO ()</span>"
      ],
      "text/plain": [
       "putStrLn :: String -> IO ()"
      ]
     },
     "metadata": {},
     "output_type": "display_data"
    }
   ],
   "source": [
    ":t putStrLn"
   ]
  },
  {
   "cell_type": "code",
   "execution_count": 24,
   "id": "aad33b24",
   "metadata": {},
   "outputs": [
    {
     "data": {
      "text/html": [
       "<style>/* Styles used for the Hoogle display in the pager */\n",
       ".hoogle-doc {\n",
       "display: block;\n",
       "padding-bottom: 1.3em;\n",
       "padding-left: 0.4em;\n",
       "}\n",
       ".hoogle-code {\n",
       "display: block;\n",
       "font-family: monospace;\n",
       "white-space: pre;\n",
       "}\n",
       ".hoogle-text {\n",
       "display: block;\n",
       "}\n",
       ".hoogle-name {\n",
       "color: green;\n",
       "font-weight: bold;\n",
       "}\n",
       ".hoogle-head {\n",
       "font-weight: bold;\n",
       "}\n",
       ".hoogle-sub {\n",
       "display: block;\n",
       "margin-left: 0.4em;\n",
       "}\n",
       ".hoogle-package {\n",
       "font-weight: bold;\n",
       "font-style: italic;\n",
       "}\n",
       ".hoogle-module {\n",
       "font-weight: bold;\n",
       "}\n",
       ".hoogle-class {\n",
       "font-weight: bold;\n",
       "}\n",
       ".get-type {\n",
       "color: green;\n",
       "font-weight: bold;\n",
       "font-family: monospace;\n",
       "display: block;\n",
       "white-space: pre-wrap;\n",
       "}\n",
       ".show-type {\n",
       "color: green;\n",
       "font-weight: bold;\n",
       "font-family: monospace;\n",
       "margin-left: 1em;\n",
       "}\n",
       ".mono {\n",
       "font-family: monospace;\n",
       "display: block;\n",
       "}\n",
       ".err-msg {\n",
       "color: red;\n",
       "font-style: italic;\n",
       "font-family: monospace;\n",
       "white-space: pre;\n",
       "display: block;\n",
       "}\n",
       "#unshowable {\n",
       "color: red;\n",
       "font-weight: bold;\n",
       "}\n",
       ".err-msg.in.collapse {\n",
       "padding-top: 0.7em;\n",
       "}\n",
       ".highlight-code {\n",
       "white-space: pre;\n",
       "font-family: monospace;\n",
       "}\n",
       ".suggestion-warning { \n",
       "font-weight: bold;\n",
       "color: rgb(200, 130, 0);\n",
       "}\n",
       ".suggestion-error { \n",
       "font-weight: bold;\n",
       "color: red;\n",
       "}\n",
       ".suggestion-name {\n",
       "font-weight: bold;\n",
       "}\n",
       "</style><span class='get-type'>(>>=) :: forall (m :: * -> *) a b. Monad m => m a -> (a -> m b) -> m b</span>"
      ],
      "text/plain": [
       "(>>=) :: forall (m :: * -> *) a b. Monad m => m a -> (a -> m b) -> m b"
      ]
     },
     "metadata": {},
     "output_type": "display_data"
    }
   ],
   "source": [
    ":t (>>=)"
   ]
  },
  {
   "cell_type": "code",
   "execution_count": 34,
   "id": "f8513515",
   "metadata": {},
   "outputs": [
    {
     "data": {
      "text/plain": [
       "What is your name?\n",
       "Hello Daniel."
      ]
     },
     "metadata": {},
     "output_type": "display_data"
    }
   ],
   "source": [
    "putStrLn \"What is your name?\" >>= \\_ -> getLine >>= \\name -> putStrLn (\"Hello \" ++ name)"
   ]
  },
  {
   "cell_type": "markdown",
   "id": "5a74d308",
   "metadata": {},
   "source": [
    "![monads are burritos](https://chrisdone.com/images/comics/monads_are_burritos.png)"
   ]
  },
  {
   "cell_type": "markdown",
   "id": "bdc68c7f",
   "metadata": {},
   "source": [
    "# References\n",
    "\n",
    "https://chrisdone.com/posts/monads-are-burritos/\n",
    "\n",
    "http://learnyouahaskell.com/functors-applicative-functors-and-monoids\n",
    "\n",
    "https://chrisdone.com/posts/monads-are-burritos/\n",
    "\n",
    "http://tpetricek.github.io/Talks/2018/monads-what-we-talk-about/nice/index.html#/"
   ]
  },
  {
   "cell_type": "code",
   "execution_count": null,
   "id": "3f9721a0",
   "metadata": {},
   "outputs": [],
   "source": []
  }
 ],
 "metadata": {
  "kernelspec": {
   "display_name": "Haskell",
   "language": "haskell",
   "name": "haskell"
  },
  "language_info": {
   "codemirror_mode": "ihaskell",
   "file_extension": ".hs",
   "mimetype": "text/x-haskell",
   "name": "haskell",
   "pygments_lexer": "Haskell",
   "version": "8.10.7"
  }
 },
 "nbformat": 4,
 "nbformat_minor": 5
}
